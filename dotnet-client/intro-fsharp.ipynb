{
 "cells": [
  {
   "cell_type": "markdown",
   "metadata": {},
   "source": [
    "# Intro to DotNetRDF and Stardog with F#"
   ]
  },
  {
   "cell_type": "code",
   "execution_count": null,
   "metadata": {
    "dotnet_interactive": {
     "language": "fsharp"
    },
    "vscode": {
     "languageId": "dotnet-interactive.fsharp"
    }
   },
   "outputs": [
    {
     "data": {
      "text/html": [
       "<div><div></div><div></div><div><strong>Installed Packages</strong><ul><li><span>DotNetRDF, 2.7.2</span></li></ul></div></div>"
      ]
     },
     "metadata": {},
     "output_type": "display_data"
    }
   ],
   "source": [
    "#r \"nuget:DotNetRDF\""
   ]
  },
  {
   "cell_type": "markdown",
   "metadata": {},
   "source": [
    "## Connect to Stardog"
   ]
  },
  {
   "cell_type": "code",
   "execution_count": null,
   "metadata": {
    "dotnet_interactive": {
     "language": "fsharp"
    },
    "vscode": {
     "languageId": "dotnet-interactive.fsharp"
    }
   },
   "outputs": [],
   "source": [
    "open System\n",
    "open VDS.RDF\n",
    "open VDS.RDF.Query\n",
    "open VDS.RDF.Parsing\n",
    "open VDS.RDF.Storage\n",
    "\n",
    "let stardog = new StardogConnector(\n",
    "    baseUri = \"http://localhost:5820\", \n",
    "    kbID = \"intro\", \n",
    "    username = \"admin\", \n",
    "    password = \"admin\")"
   ]
  },
  {
   "cell_type": "markdown",
   "metadata": {},
   "source": [
    "## Create a new Triple"
   ]
  },
  {
   "cell_type": "code",
   "execution_count": null,
   "metadata": {
    "dotnet_interactive": {
     "language": "fsharp"
    },
    "vscode": {
     "languageId": "dotnet-interactive.fsharp"
    }
   },
   "outputs": [],
   "source": [
    "let graph = new Graph()\n",
    "\n",
    "let krisResource = new Uri(\"http://example.org/kris\") |> graph.CreateUriNode\n",
    "let nameProperty = new Uri(\"http://example.org/vocab#name\") |> graph.CreateUriNode\n",
    "let krisString = \"Kris\" |> graph.CreateLiteralNode\n",
    "\n",
    "let krisNameTriple = new Triple(\n",
    "    subj = krisResource, \n",
    "    pred = nameProperty,\n",
    "    obj = krisString)\n",
    "\n",
    "stardog.UpdateGraph(\n",
    "    graphUri = (null: String), \n",
    "    additions = [ krisNameTriple ], \n",
    "    removals = null)"
   ]
  },
  {
   "cell_type": "markdown",
   "metadata": {},
   "source": []
  },
  {
   "cell_type": "code",
   "execution_count": null,
   "metadata": {
    "dotnet_interactive": {
     "language": "fsharp"
    },
    "vscode": {
     "languageId": "dotnet-interactive.fsharp"
    }
   },
   "outputs": [
    {
     "data": {
      "text/plain": [
       "http://example.org/vocab#name"
      ]
     },
     "metadata": {},
     "output_type": "display_data"
    },
    {
     "data": {
      "text/plain": [
       "http://example.org/kris"
      ]
     },
     "metadata": {},
     "output_type": "display_data"
    },
    {
     "data": {
      "text/plain": [
       "Kris"
      ]
     },
     "metadata": {},
     "output_type": "display_data"
    }
   ],
   "source": [
    "let results = stardog.Query(\"select * where { ?s ?p ?o }\") :?> SparqlResultSet\n",
    "\n",
    "for result in results do\n",
    "    for pair in result do\n",
    "        let node = pair.Value\n",
    "        match node with\n",
    "        | :? UriNode as uri ->\n",
    "            display uri.Uri.AbsoluteUri |> ignore\n",
    "        | :? LiteralNode as literal ->\n",
    "            display literal.Value |> ignore\n",
    "        | _ ->\n",
    "            ()"
   ]
  }
 ],
 "metadata": {
  "kernelspec": {
   "display_name": ".NET (F#)",
   "language": "F#",
   "name": ".net-fsharp"
  },
  "language_info": {
   "name": "F#"
  }
 },
 "nbformat": 4,
 "nbformat_minor": 2
}
