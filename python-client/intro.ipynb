{
 "cells": [
  {
   "cell_type": "code",
   "execution_count": 4,
   "metadata": {},
   "outputs": [
    {
     "name": "stdout",
     "output_type": "stream",
     "text": [
      "Requirement already satisfied: rdflib in c:\\users\\kris.garcia\\anaconda3\\lib\\site-packages (6.1.1)\n",
      "Requirement already satisfied: isodate in c:\\users\\kris.garcia\\anaconda3\\lib\\site-packages (from rdflib) (0.6.1)\n",
      "Requirement already satisfied: setuptools in c:\\users\\kris.garcia\\anaconda3\\lib\\site-packages (from rdflib) (58.0.4)\n",
      "Requirement already satisfied: pyparsing in c:\\users\\kris.garcia\\anaconda3\\lib\\site-packages (from rdflib) (3.0.4)\n",
      "Requirement already satisfied: six in c:\\users\\kris.garcia\\anaconda3\\lib\\site-packages (from isodate->rdflib) (1.16.0)\n",
      "Requirement already satisfied: pystardog in c:\\users\\kris.garcia\\anaconda3\\lib\\site-packages (0.11.0)\n",
      "Requirement already satisfied: requests-toolbelt>=0.9.1 in c:\\users\\kris.garcia\\anaconda3\\lib\\site-packages (from pystardog) (0.9.1)\n",
      "Requirement already satisfied: requests>=2.22.0 in c:\\users\\kris.garcia\\anaconda3\\lib\\site-packages (from pystardog) (2.26.0)\n",
      "Requirement already satisfied: contextlib2>=0.5.5 in c:\\users\\kris.garcia\\anaconda3\\lib\\site-packages (from pystardog) (0.6.0.post1)\n",
      "Requirement already satisfied: urllib3<1.27,>=1.21.1 in c:\\users\\kris.garcia\\anaconda3\\lib\\site-packages (from requests>=2.22.0->pystardog) (1.26.7)\n",
      "Requirement already satisfied: certifi>=2017.4.17 in c:\\users\\kris.garcia\\anaconda3\\lib\\site-packages (from requests>=2.22.0->pystardog) (2021.10.8)\n",
      "Requirement already satisfied: idna<4,>=2.5 in c:\\users\\kris.garcia\\anaconda3\\lib\\site-packages (from requests>=2.22.0->pystardog) (3.2)\n",
      "Requirement already satisfied: charset-normalizer~=2.0.0 in c:\\users\\kris.garcia\\anaconda3\\lib\\site-packages (from requests>=2.22.0->pystardog) (2.0.4)\n"
     ]
    }
   ],
   "source": [
    "import sys\n",
    "\n",
    "!{sys.executable} -m pip install rdflib\n",
    "!{sys.executable} -m pip install pystardog\n",
    "\n",
    "import rdflib\n",
    "import stardog"
   ]
  },
  {
   "cell_type": "code",
   "execution_count": 3,
   "metadata": {},
   "outputs": [
    {
     "name": "stdout",
     "output_type": "stream",
     "text": [
      "hello\n"
     ]
    }
   ],
   "source": [
    "\n",
    "print(\"hello\")"
   ]
  }
 ],
 "metadata": {
  "interpreter": {
   "hash": "d3670c3bd9eb92ea4182509b006aaf9fda1fdae4d5b0afd515d36f8e7d3cea6e"
  },
  "kernelspec": {
   "display_name": "Python 3.9.7 ('base')",
   "language": "python",
   "name": "python3"
  },
  "language_info": {
   "codemirror_mode": {
    "name": "ipython",
    "version": 3
   },
   "file_extension": ".py",
   "mimetype": "text/x-python",
   "name": "python",
   "nbconvert_exporter": "python",
   "pygments_lexer": "ipython3",
   "version": "3.9.7"
  },
  "orig_nbformat": 4
 },
 "nbformat": 4,
 "nbformat_minor": 2
}
